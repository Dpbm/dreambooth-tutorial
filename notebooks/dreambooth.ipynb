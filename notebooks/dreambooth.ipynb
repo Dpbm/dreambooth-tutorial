{
 "cells": [
  {
   "attachments": {},
   "cell_type": "markdown",
   "metadata": {},
   "source": [
    "# 👋 Olá, estou muito feliz em vê-lo aqui. \n",
    "Presumo que você está procurando uma maneira fácil de criar seu avatar com uma inteligência artificial. Bem, é para isso que estou aqui, vou lhe guiar nessa jornada.\n",
    "\n",
    "Abaixo, está o passo a passo de como você pode criar as imagens, siga-as, e caso ocorra algum problema, você tenha uma dúvida, ou ainda uma melhoria, siga para [esse repositório do Github](https://github.com/Dpbm/dreambooth-tutorial) e abra uma `ISSUE`, assim que possível a comunidade irá te ajudar!\n",
    "\n",
    "Pronto para começar?"
   ]
  },
  {
   "attachments": {},
   "cell_type": "markdown",
   "metadata": {},
   "source": [
    "# 1 - HuggingFace\n",
    "\n",
    "![HuggingFace ícone](./assets/hugging-face-image.svg)\n",
    "\n",
    "O huggingFace, é uma plataforma, da qual pessoas engajadas no universo de inteligência artificial podem compartilhar pesquisas, [modelos](https://pt.wikipedia.org/wiki/Intelig%C3%AAncia_artificial), etc.\\\n",
    "Além de possibilitar pessoas que não são da área, a utilizarem essas IAs de uma forma fácil através de uma [API](https://pt.wikipedia.org/wiki/Interface_de_programa%C3%A7%C3%A3o_de_aplica%C3%A7%C3%B5es).\n",
    "\n",
    "Aqui utilizaremos para nos comunicarmos com um modelo chamado [Stable Diffusion](https://huggingface.co/runwayml/stable-diffusion-v1-5).\n",
    "\n",
    "1. Para começar, entre em [huggingface.co](https://huggingface.co) e [crie uma conta](https://huggingface.co/join), caso você não possua uma;\n",
    "2. Em seguida, o HuggingFace irá lhe enviar um e-mail para verificar sua conta, entre nele e clique no link que lhe enviaram (lembre de olhar também a caixa de spam);\n",
    "3. Com sua conta verificada, [clique aqui](https://huggingface.co/settings/tokens);\n",
    "4. Clique em `New Token`(ou nova token, dependendo do idioma que você está utilizando);\n",
    "5. O seguinte campo abrirá em sua tela:\n",
    "\n",
    "![campo para criar o token](./assets/token_field.png)\n",
    "\n",
    "Em `name` coloque um nome para sua token, recomendo colocar um nome sem caracteres especiais (como ponto, vírgula, espaço, etc.) e sem acentos, isso pode gerar erros mais tarde.\\\n",
    "Em `role` mude para `write` (ou escrita, dependendo do seu idioma do navegador).\n",
    "\n",
    "6. Após criada a token, `anote o nome da token em algum local` e depois clique em `copiar` e `também à anote a token gerada em algum local`\n",
    "\n",
    "![copiar token](./assets/copy_token.png)\n",
    " "
   ]
  }
 ],
 "metadata": {
  "kernelspec": {
   "display_name": "Python 3",
   "language": "python",
   "name": "python3"
  },
  "language_info": {
   "name": "python",
   "version": "3.10.8 (main, Nov  1 2022, 14:18:21) [GCC 12.2.0]"
  },
  "orig_nbformat": 4,
  "vscode": {
   "interpreter": {
    "hash": "e7370f93d1d0cde622a1f8e1c04877d8463912d04d973331ad4851f04de6915a"
   }
  }
 },
 "nbformat": 4,
 "nbformat_minor": 2
}
