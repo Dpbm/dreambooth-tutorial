{
  "cells": [
    {
      "cell_type": "markdown",
      "metadata": {
        "id": "pQY-SglLLZWU"
      },
      "source": [
        "# 👋 Olá, estou muito feliz em vê-lo aqui. \n",
        "Presumo que você está procurando uma maneira fácil de criar seu avatar com uma inteligência artificial. Bem, é para isso que estou aqui, vou lhe guiar nessa jornada.\n",
        "\n",
        "Abaixo, está o passo a passo de como você pode criar as imagens, siga-as, e caso ocorra algum problema, você tenha uma dúvida, ou ainda uma melhoria, siga para [esse repositório do Github](https://github.com/Dpbm/dreambooth-tutorial) e abra uma `ISSUE`, assim que possível a comunidade irá te ajudar!\n",
        "\n",
        "Pronto para começar?"
      ]
    },
    {
      "attachments": {},
      "cell_type": "markdown",
      "metadata": {
        "id": "oiFu3MqhLZWd"
      },
      "source": [
        "# 1 - HuggingFace\n",
        "\n",
        "![HuggingFace ícone](https://github.com/Dpbm/dreambooth-tutorial/blob/main/notebooks/assets/hugging-face-image.svg)\n",
        "\n",
        "O huggingFace, é uma plataforma, da qual pessoas engajadas no universo de inteligência artificial podem compartilhar pesquisas, [modelos](https://pt.wikipedia.org/wiki/Intelig%C3%AAncia_artificial), etc.\\\n",
        "Além de possibilitar pessoas que não são da área, a utilizarem essas IAs de uma forma fácil através de uma [API](https://pt.wikipedia.org/wiki/Interface_de_programa%C3%A7%C3%A3o_de_aplica%C3%A7%C3%B5es).\n",
        "\n",
        "Aqui utilizaremos para nos comunicarmos com um modelo chamado [Stable Diffusion](https://huggingface.co/runwayml/stable-diffusion-v1-5).\n",
        "\n",
        "1. Para começar, entre em [huggingface.co](https://huggingface.co) e [crie uma conta](https://huggingface.co/join), caso você não possua uma;\n",
        "2. Em seguida, o HuggingFace irá lhe enviar um e-mail para verificar sua conta, entre nele e clique no link que lhe enviaram (lembre de olhar também a caixa de spam);\n",
        "3. Com sua conta verificada, [clique aqui](https://huggingface.co/settings/tokens);\n",
        "4. Clique em `New Token`(ou nova token, dependendo do idioma que você está utilizando);\n",
        "5. O seguinte campo abrirá em sua tela:\n",
        "\n",
        "![campo para criar o token](https://github.com/Dpbm/dreambooth-tutorial/blob/main/notebooks/assets/token_field.png)\n",
        "\n",
        "Em `name` coloque um nome para sua token, recomendo colocar um nome sem caracteres especiais (como ponto, vírgula, espaço, etc.) e sem acentos, isso pode gerar erros mais tarde.\\\n",
        "Em `role` mude para `write` (ou escrita, dependendo do seu idioma do navegador).\n",
        "\n",
        "6. Após criada a token, `anote o nome da token em algum local` e depois clique em `copiar` e `também anote a token gerada em algum local`\n",
        "\n",
        "![copiar token](https://github.com/Dpbm/dreambooth-tutorial/blob/main/notebooks/assets/copy_token.png)\n",
        " "
      ]
    },
    {
      "cell_type": "markdown",
      "metadata": {
        "id": "IUgYlDmLTZE0"
      },
      "source": [
        "# 2 - Suas fotos\n",
        "\n",
        "Agora, você precisa tirar diversas fotos de você, `pelo menos 20`, com uma boa qualidade.\\\n",
        "Lembre de tirar fotos em diversos angulos, posições, com roupas diferentes, acessórios diferentes, etc. Tudo para o modelo te entender melhor. \n",
        "\n",
        "Após tirá-las, você precisa garantir que elas tenham `512x512px`. Você pode usar diversas aplicações para fazer isso, mas a mais fácil é o Birme, clique [aqui](https://www.birme.net/?target_width=512&target_height=512) e recorte suas imagens. "
      ]
    },
    {
      "attachments": {},
      "cell_type": "markdown",
      "metadata": {
        "id": "jH-5Mn9rLZWj"
      },
      "source": [
        "# 3 - Google Colab\n",
        "\n",
        "Agora que você está de volta no google colab, você precisa verificar se o ambiente está configurado para o uso de `GPU`. Para verificar isso vá em `Runtime > Change Runtime Type` e modifique o `Hardware accelerator` para `GPU`.\n",
        "\n",
        "![GPU no google colab runtime](https://github.com/Dpbm/dreambooth-tutorial/blob/main/notebooks/assets/GPU.png)\n",
        "\n",
        "Se algum erro acontecer, tente rodar o notebook mais tarde. Caso você queira executar no mesmo instante dê uma olhada nos planos PRO do google colab, dos quais estão disponíveis [nesse link](https://colab.research.google.com/signup)"
      ]
    },
    {
      "cell_type": "markdown",
      "metadata": {
        "id": "qDMao6KiLZWn"
      },
      "source": [
        "# 4 - Rodando os códigos\n",
        "\n",
        "Agora precisamos começar a executar os códigos. \n",
        "\n",
        "Fique atento para erros, caso algum ocorra, vá para o [repositório do projeto no github](https://github.com/Dpbm/dreambooth-tutorial/issues) e veja se há alguma issue aberta discutindo o erro que está acontecendo para você, se não houver, fique à vontade para abrir uma nova issue.\n",
        "Não esqueça de sempre que possível ajudar nossa comunidade, mesmo que você não esteja familiarizado com tecnologia e programação, não se preocupe, interaja com os outros através das issues e seja feliz :)\n",
        "\n",
        "Depois desse recado, vamos à execução"
      ]
    },
    {
      "cell_type": "code",
      "execution_count": null,
      "metadata": {
        "cellView": "form",
        "id": "dbPo0GPLNRaf"
      },
      "outputs": [],
      "source": [
        "#@markdown 🏃‍♂️ Rode esta célula para instalar as dependencias necessárias\n",
        "!rm -rf train_dreambooth.py convert_diffusers_to_original_stable_diffusion.py\n",
        "!wget -q https://github.com/ShivamShrirao/diffusers/raw/main/examples/dreambooth/train_dreambooth.py\n",
        "!wget -q https://github.com/ShivamShrirao/diffusers/raw/main/scripts/convert_diffusers_to_original_stable_diffusion.py\n",
        "%pip install -qq git+https://github.com/ShivamShrirao/diffusers\n",
        "%pip install -q -U --pre triton\n",
        "%pip install -q accelerate transformers ftfy bitsandbytes gradio natsort\n",
        "%pip install -q https://github.com/Dpbm/dreambooth-tutorial/releases/download/07ba3f3/xformers-0.0.15.dev0+07ba3f3.d20221208-cp38-cp38-linux_x86_64.whl"
      ]
    },
    {
      "cell_type": "code",
      "execution_count": null,
      "metadata": {
        "cellView": "form",
        "id": "D_tuJ0EGLZWq"
      },
      "outputs": [],
      "source": [
        "#@markdown 🏃‍♂️ Adcione o nome da token e a token, respectivamente, abaixo\n",
        "\n",
        "from google.colab import drive\n",
        "import os\n",
        "from pathlib import Path\n",
        "\n",
        "def createFolder(path):\n",
        "  if(not os.path.exists(path)):\n",
        "    print(f\"[*] Criando a pasta {path}...\")\n",
        "    os.mkdir(path)\n",
        "\n",
        "def createConceptsList(path):\n",
        "  import json\n",
        "\n",
        "  concepts = [\n",
        "      {\n",
        "          \"instance_prompt\":      HUGGINGFACE_TOKEN_NAME,\n",
        "          \"class_prompt\":         \"photo of a person\",\n",
        "          \"instance_data_dir\":    INSTANCE_DATA_FOLDER,\n",
        "          \"class_data_dir\":       f\"{DATA_FOLDER}person\"\n",
        "      }\n",
        "  ]\n",
        "\n",
        "\n",
        "  print(f\"[*] Criando o arquivo {path}...\")\n",
        "  with open(path, \"w\") as file:\n",
        "      json.dump(concepts, file, indent=4)\n",
        "\n",
        "def createHuggingFaceToken(path, token):\n",
        "  token_file_path = os.path.join(path, 'token')\n",
        "\n",
        "  if(os.path.exists(token_file_path)): return\n",
        "\n",
        "  print(f\"[*] Salvando a token do HuggingFace em {token_file_path}...\")\n",
        "\n",
        "  with open(token_file_path, \"w\") as token_file:\n",
        "    token_file.write(token)\n",
        "\n",
        "HOME=Path.home()\n",
        "HUGGING_FACE_TOKEN_FOLDER=f'{HOME}/.huggingface'\n",
        "createFolder(HUGGING_FACE_TOKEN_FOLDER)\n",
        "\n",
        "HUGGINGFACE_TOKEN_NAME = \"\" #@param {type:\"string\"}\n",
        "HUGGINGFACE_TOKEN = \"\" #@param {type:\"string\"}\n",
        "\n",
        "createHuggingFaceToken(HUGGING_FACE_TOKEN_FOLDER, HUGGINGFACE_TOKEN)\n",
        "\n",
        "MODEL_NAME = \"runwayml/stable-diffusion-v1-5\"\n",
        "\n",
        "#@markdown Após adicionar os dados e rodar a célula, dê permissão para acessar o seu google drive\n",
        "\n",
        "drive.mount('/content/drive')\n",
        "\n",
        "OUTPUT_DIR = \"/content/drive/MyDrive/stable_diffusion_weights/zwx\"\n",
        "createFolder(OUTPUT_DIR)\n",
        "\n",
        "DATA_FOLDER = \"/content/drive/MyDrive/data/\"\n",
        "INSTANCE_DATA_FOLDER = f\"{DATA_FOLDER}{HUGGINGFACE_TOKEN_NAME}\"\n",
        "createFolder(DATA_FOLDER)\n",
        "createFolder(INSTANCE_DATA_FOLDER)\n",
        "\n",
        "CONPECTS_LIST_JSON = \"/content/drive/MyDrive/concepts_list.json\"\n",
        "createConceptsList(CONPECTS_LIST_JSON)\n",
        "\n",
        "WEIGHTS_DIR = \"/content/drive/MyDrive/stable_diffusion_weights/zwx/800\"\n",
        "\n",
        "OUTPUT_GENERATED_IMAGES = \"/content/drive/MyDrive/imagens_geradas/\"\n",
        "createFolder(OUTPUT_GENERATED_IMAGES)\n"
      ]
    },
    {
      "cell_type": "code",
      "execution_count": null,
      "metadata": {
        "cellView": "form",
        "id": "6MqZNZxiU9ji"
      },
      "outputs": [],
      "source": [
        "#@markdown 🏃‍♂️ Rode essa célula e faça upload das suas imagens\n",
        "\n",
        "from google.colab import files\n",
        "import os\n",
        "import shutil\n",
        "\n",
        "uploaded = files.upload()\n",
        "for filename in uploaded.keys():\n",
        "  path = os.path.join(INSTANCE_DATA_FOLDER, filename)\n",
        "  print(f\"[*] movendo {filename} para {path}...\")\n",
        "  shutil.move(filename, path)"
      ]
    },
    {
      "cell_type": "code",
      "execution_count": null,
      "metadata": {
        "cellView": "form",
        "id": "Sp8Nx5O9LZWv"
      },
      "outputs": [],
      "source": [
        "#@markdown 🏃‍♂️ Rode essa célula para treinar o modelo. Isso pode demorar um pouco, tenha paciência\n",
        "\n",
        "!accelerate launch train_dreambooth.py \\\n",
        "  --pretrained_model_name_or_path=$MODEL_NAME \\\n",
        "  --pretrained_vae_name_or_path=\"stabilityai/sd-vae-ft-mse\" \\\n",
        "  --output_dir=$OUTPUT_DIR \\\n",
        "  --revision=\"fp16\" \\\n",
        "  --with_prior_preservation --prior_loss_weight=1.0 \\\n",
        "  --seed=1337 \\\n",
        "  --resolution=512 \\\n",
        "  --train_batch_size=1 \\\n",
        "  --train_text_encoder \\\n",
        "  --mixed_precision=\"fp16\" \\\n",
        "  --use_8bit_adam \\\n",
        "  --gradient_accumulation_steps=1 \\\n",
        "  --learning_rate=1e-6 \\\n",
        "  --lr_scheduler=\"constant\" \\\n",
        "  --lr_warmup_steps=0 \\\n",
        "  --num_class_images=50 \\\n",
        "  --sample_batch_size=4 \\\n",
        "  --max_train_steps=800 \\\n",
        "  --save_interval=10000 \\\n",
        "  --save_sample_prompt=$HUGGINGFACE_TOKEN_NAME \\\n",
        "  --concepts_list=$CONPECTS_LIST_JSON"
      ]
    },
    {
      "cell_type": "code",
      "execution_count": null,
      "metadata": {
        "cellView": "form",
        "id": "NtPQv3DpIT9s"
      },
      "outputs": [],
      "source": [
        "#@markdown 🏃‍♂️ Rode essa célula para preparar o ambiente para executar a IA\n",
        "\n",
        "import torch\n",
        "from torch import autocast\n",
        "from diffusers import StableDiffusionPipeline, DDIMScheduler\n",
        "from IPython.display import display\n",
        "\n",
        "model_path = WEIGHTS_DIR\n",
        "\n",
        "pipe = StableDiffusionPipeline.from_pretrained(model_path, safety_checker=None, torch_dtype=torch.float16).to(\"cuda\")\n",
        "pipe.scheduler = DDIMScheduler.from_config(pipe.scheduler.config)\n",
        "pipe.enable_xformers_memory_efficient_attention()\n",
        "g_cuda = torch.Generator(device='cuda')\n",
        "seed = 52362\n",
        "g_cuda.manual_seed(seed)"
      ]
    },
    {
      "cell_type": "code",
      "execution_count": null,
      "metadata": {
        "cellView": "form",
        "id": "Kz2lw0TzIy6n"
      },
      "outputs": [],
      "source": [
        "#@markdown Comece a criar as imagens, lembre-se de colocar o nome da sua token no texto.\\\n",
        "#@markdown exemplo:\\ \n",
        "#@markdown *nome da token: eu*\\\n",
        "#@markdown *texto: eu wearing a black hat*\n",
        "\n",
        "import uuid\n",
        "\n",
        "prompt = \"\" #@param {type:\"string\"}\n",
        "\n",
        "with autocast(\"cuda\"), torch.inference_mode():\n",
        "    images = pipe(\n",
        "        prompt,\n",
        "        height=512,\n",
        "        width=512,\n",
        "        negative_prompt=\"\",\n",
        "        num_images_per_prompt=4,\n",
        "        num_inference_steps=24,\n",
        "        guidance_scale=7.5,\n",
        "        generator=g_cuda\n",
        "    ).images\n",
        "\n",
        "for img in images:\n",
        "  image_path = f\"{OUTPUT_GENERATED_IMAGES}{uuid.uuid4()}.png\"\n",
        "  print(f\"[*] Salvando imagem {image_path}...\")\n",
        "  img.save(image_path)\n",
        "  \n",
        "  display(img)"
      ]
    },
    {
      "cell_type": "code",
      "execution_count": null,
      "metadata": {
        "cellView": "form",
        "id": "9k4b3j_iLuML"
      },
      "outputs": [],
      "source": [
        "#@markdown 🏃‍♂️ Rode essa célula para terminar as execuções e finalizar o ambiente\n",
        "exit()"
      ]
    },
    {
      "cell_type": "markdown",
      "metadata": {
        "id": "YZpM3HWCLZWx"
      },
      "source": [
        "[Versão original do repositório](https://github.com/ShivamShrirao/diffusers) [by ShivamShrirao](https://github.com/ShivamShrirao)  "
      ]
    }
  ],
  "metadata": {
    "accelerator": "GPU",
    "colab": {
      "provenance": []
    },
    "gpuClass": "standard",
    "kernelspec": {
      "display_name": "Python 3",
      "language": "python",
      "name": "python3"
    },
    "language_info": {
      "name": "python",
      "version": "3.10.9 (main, Dec 19 2022, 17:35:49) [GCC 12.2.0]"
    },
    "orig_nbformat": 4,
    "vscode": {
      "interpreter": {
        "hash": "e7370f93d1d0cde622a1f8e1c04877d8463912d04d973331ad4851f04de6915a"
      }
    }
  },
  "nbformat": 4,
  "nbformat_minor": 0
}
